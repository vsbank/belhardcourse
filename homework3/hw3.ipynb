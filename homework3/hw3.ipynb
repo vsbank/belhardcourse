{
  "nbformat": 4,
  "nbformat_minor": 0,
  "metadata": {
    "colab": {
      "provenance": []
    },
    "kernelspec": {
      "name": "python3",
      "display_name": "Python 3"
    },
    "language_info": {
      "name": "python"
    }
  },
  "cells": [
    {
      "cell_type": "markdown",
      "source": [
        "Разворачиваем и экспериментируем с MongoDB"
      ],
      "metadata": {
        "id": "BGoC0dJw54Fh"
      }
    },
    {
      "cell_type": "code",
      "execution_count": 3,
      "metadata": {
        "colab": {
          "base_uri": "https://localhost:8080/"
        },
        "id": "ysBJC9Nr5fXl",
        "outputId": "5324b6bd-68dd-4dee-d0ce-2e1586bd1523"
      },
      "outputs": [
        {
          "output_type": "stream",
          "name": "stdout",
          "text": [
            "DISTRIB_ID=Ubuntu\n",
            "DISTRIB_RELEASE=22.04\n",
            "DISTRIB_CODENAME=jammy\n",
            "DISTRIB_DESCRIPTION=\"Ubuntu 22.04.4 LTS\"\n"
          ]
        }
      ],
      "source": [
        "# для установки используем мануалы с официально сайта\n",
        "# https://www.mongodb.com/docs/manual/tutorial/install-mongodb-on-ubuntu/\n",
        "\n",
        "# проверим версию системы\n",
        "!cat /etc/lsb-release"
      ]
    },
    {
      "cell_type": "code",
      "source": [
        "# import the MongoDB public GPG key\n",
        "!curl -fsSL https://www.mongodb.org/static/pgp/server-8.0.asc | \\\n",
        "   sudo gpg -o /usr/share/keyrings/mongodb-server-8.0.gpg \\\n",
        "   --dearmor"
      ],
      "metadata": {
        "id": "sY5tw7pa6P8q"
      },
      "execution_count": 4,
      "outputs": []
    },
    {
      "cell_type": "code",
      "source": [
        "# Create the list file for Ubuntu 22.04 (Jammy)\n",
        "!echo \"deb [ arch=amd64,arm64 signed-by=/usr/share/keyrings/mongodb-server-8.0.gpg ] https://repo.mongodb.org/apt/ubuntu jammy/mongodb-org/8.0 multiverse\" | sudo tee /etc/apt/sources.list.d/mongodb-org-8.0.list"
      ],
      "metadata": {
        "colab": {
          "base_uri": "https://localhost:8080/"
        },
        "id": "m5R-4PeM7hiU",
        "outputId": "e3280c7d-332b-4400-ae58-096aaac989de"
      },
      "execution_count": 6,
      "outputs": [
        {
          "output_type": "stream",
          "name": "stdout",
          "text": [
            "deb [ arch=amd64,arm64 signed-by=/usr/share/keyrings/mongodb-server-8.0.gpg ] https://repo.mongodb.org/apt/ubuntu jammy/mongodb-org/8.0 multiverse\n"
          ]
        }
      ]
    },
    {
      "cell_type": "code",
      "source": [
        "# Reload the package database\n",
        "!sudo apt-get update"
      ],
      "metadata": {
        "colab": {
          "base_uri": "https://localhost:8080/"
        },
        "id": "Yt3yRYb-8U2O",
        "outputId": "c20b7efc-16aa-4d53-b496-9041e4c52a58"
      },
      "execution_count": 7,
      "outputs": [
        {
          "output_type": "stream",
          "name": "stdout",
          "text": [
            "\r0% [Working]\r            \rGet:1 https://cloud.r-project.org/bin/linux/ubuntu jammy-cran40/ InRelease [3,632 B]\n",
            "\r0% [Connecting to archive.ubuntu.com (185.125.190.82)] [Connecting to security.\r0% [Connecting to archive.ubuntu.com (185.125.190.82)] [Connecting to security.\r                                                                               \rGet:2 https://developer.download.nvidia.com/compute/cuda/repos/ubuntu2204/x86_64  InRelease [1,581 B]\n",
            "\r0% [Waiting for headers] [Waiting for headers] [Waiting for headers] [2 InRelea\r0% [Waiting for headers] [Waiting for headers] [Waiting for headers] [Connected\r                                                                               \rGet:3 https://repo.mongodb.org/apt/ubuntu jammy/mongodb-org/8.0 InRelease [3,005 B]\n",
            "\r0% [Waiting for headers] [Waiting for headers] [Waiting for headers] [Connected\r0% [Waiting for headers] [Waiting for headers] [Waiting for headers] [Connected\r                                                                               \rHit:4 http://archive.ubuntu.com/ubuntu jammy InRelease\n",
            "Get:5 http://security.ubuntu.com/ubuntu jammy-security InRelease [129 kB]\n",
            "Get:6 https://r2u.stat.illinois.edu/ubuntu jammy InRelease [6,555 B]\n",
            "Get:7 http://archive.ubuntu.com/ubuntu jammy-updates InRelease [128 kB]\n",
            "Get:8 https://developer.download.nvidia.com/compute/cuda/repos/ubuntu2204/x86_64  Packages [1,383 kB]\n",
            "Hit:9 https://ppa.launchpadcontent.net/deadsnakes/ppa/ubuntu jammy InRelease\n",
            "Get:10 https://repo.mongodb.org/apt/ubuntu jammy/mongodb-org/8.0/multiverse amd64 Packages [28.1 kB]\n",
            "Hit:11 https://ppa.launchpadcontent.net/graphics-drivers/ppa/ubuntu jammy InRelease\n",
            "Get:12 https://repo.mongodb.org/apt/ubuntu jammy/mongodb-org/8.0/multiverse arm64 Packages [27.9 kB]\n",
            "Hit:13 https://ppa.launchpadcontent.net/ubuntugis/ppa/ubuntu jammy InRelease\n",
            "Get:14 https://r2u.stat.illinois.edu/ubuntu jammy/main amd64 Packages [2,684 kB]\n",
            "Get:15 http://archive.ubuntu.com/ubuntu jammy-backports InRelease [127 kB]\n",
            "Get:16 http://security.ubuntu.com/ubuntu jammy-security/restricted amd64 Packages [4,000 kB]\n",
            "Get:17 https://r2u.stat.illinois.edu/ubuntu jammy/main all Packages [8,810 kB]\n",
            "Get:18 http://archive.ubuntu.com/ubuntu jammy-updates/universe amd64 Packages [1,542 kB]\n",
            "Get:19 http://archive.ubuntu.com/ubuntu jammy-updates/main amd64 Packages [3,099 kB]\n",
            "Get:20 http://security.ubuntu.com/ubuntu jammy-security/universe amd64 Packages [1,243 kB]\n",
            "Get:21 http://security.ubuntu.com/ubuntu jammy-security/main amd64 Packages [2,788 kB]\n",
            "Fetched 26.0 MB in 3s (8,186 kB/s)\n",
            "Reading package lists... Done\n",
            "W: Skipping acquire of configured file 'main/source/Sources' as repository 'https://r2u.stat.illinois.edu/ubuntu jammy InRelease' does not seem to provide it (sources.list entry misspelt?)\n"
          ]
        }
      ]
    },
    {
      "cell_type": "code",
      "source": [
        "# Install MongoDB Community Server\n",
        "!sudo apt-get install -y mongodb-org"
      ],
      "metadata": {
        "colab": {
          "base_uri": "https://localhost:8080/"
        },
        "id": "fJTwxyY48aPU",
        "outputId": "ae801744-1767-456e-9d04-a6cf3496f2a0"
      },
      "execution_count": 8,
      "outputs": [
        {
          "output_type": "stream",
          "name": "stdout",
          "text": [
            "Reading package lists... Done\n",
            "Building dependency tree... Done\n",
            "Reading state information... Done\n",
            "The following additional packages will be installed:\n",
            "  mongodb-database-tools mongodb-mongosh mongodb-org-database\n",
            "  mongodb-org-database-tools-extra mongodb-org-mongos mongodb-org-server\n",
            "  mongodb-org-shell mongodb-org-tools\n",
            "The following NEW packages will be installed:\n",
            "  mongodb-database-tools mongodb-mongosh mongodb-org mongodb-org-database\n",
            "  mongodb-org-database-tools-extra mongodb-org-mongos mongodb-org-server\n",
            "  mongodb-org-shell mongodb-org-tools\n",
            "0 upgraded, 9 newly installed, 0 to remove and 36 not upgraded.\n",
            "Need to get 186 MB of archives.\n",
            "After this operation, 653 MB of additional disk space will be used.\n",
            "Get:1 https://repo.mongodb.org/apt/ubuntu jammy/mongodb-org/8.0/multiverse amd64 mongodb-database-tools amd64 100.12.0 [58.8 MB]\n",
            "Get:2 https://repo.mongodb.org/apt/ubuntu jammy/mongodb-org/8.0/multiverse amd64 mongodb-mongosh amd64 2.4.2 [54.5 MB]\n",
            "Get:3 https://repo.mongodb.org/apt/ubuntu jammy/mongodb-org/8.0/multiverse amd64 mongodb-org-shell amd64 8.0.6 [2,988 B]\n",
            "Get:4 https://repo.mongodb.org/apt/ubuntu jammy/mongodb-org/8.0/multiverse amd64 mongodb-org-server amd64 8.0.6 [41.6 MB]\n",
            "Get:5 https://repo.mongodb.org/apt/ubuntu jammy/mongodb-org/8.0/multiverse amd64 mongodb-org-mongos amd64 8.0.6 [31.0 MB]\n",
            "Get:6 https://repo.mongodb.org/apt/ubuntu jammy/mongodb-org/8.0/multiverse amd64 mongodb-org-database-tools-extra amd64 8.0.6 [7,792 B]\n",
            "Get:7 https://repo.mongodb.org/apt/ubuntu jammy/mongodb-org/8.0/multiverse amd64 mongodb-org-database amd64 8.0.6 [3,418 B]\n",
            "Get:8 https://repo.mongodb.org/apt/ubuntu jammy/mongodb-org/8.0/multiverse amd64 mongodb-org-tools amd64 8.0.6 [2,768 B]\n",
            "Get:9 https://repo.mongodb.org/apt/ubuntu jammy/mongodb-org/8.0/multiverse amd64 mongodb-org amd64 8.0.6 [2,802 B]\n",
            "Fetched 186 MB in 4s (48.1 MB/s)\n",
            "debconf: unable to initialize frontend: Dialog\n",
            "debconf: (No usable dialog-like program is installed, so the dialog based frontend cannot be used. at /usr/share/perl5/Debconf/FrontEnd/Dialog.pm line 78, <> line 9.)\n",
            "debconf: falling back to frontend: Readline\n",
            "debconf: unable to initialize frontend: Readline\n",
            "debconf: (This frontend requires a controlling tty.)\n",
            "debconf: falling back to frontend: Teletype\n",
            "dpkg-preconfigure: unable to re-open stdin: \n",
            "Selecting previously unselected package mongodb-database-tools.\n",
            "(Reading database ... 126213 files and directories currently installed.)\n",
            "Preparing to unpack .../0-mongodb-database-tools_100.12.0_amd64.deb ...\n",
            "Unpacking mongodb-database-tools (100.12.0) ...\n",
            "Selecting previously unselected package mongodb-mongosh.\n",
            "Preparing to unpack .../1-mongodb-mongosh_2.4.2_amd64.deb ...\n",
            "Unpacking mongodb-mongosh (2.4.2) ...\n",
            "Selecting previously unselected package mongodb-org-shell.\n",
            "Preparing to unpack .../2-mongodb-org-shell_8.0.6_amd64.deb ...\n",
            "Unpacking mongodb-org-shell (8.0.6) ...\n",
            "Selecting previously unselected package mongodb-org-server.\n",
            "Preparing to unpack .../3-mongodb-org-server_8.0.6_amd64.deb ...\n",
            "Unpacking mongodb-org-server (8.0.6) ...\n",
            "Selecting previously unselected package mongodb-org-mongos.\n",
            "Preparing to unpack .../4-mongodb-org-mongos_8.0.6_amd64.deb ...\n",
            "Unpacking mongodb-org-mongos (8.0.6) ...\n",
            "Selecting previously unselected package mongodb-org-database-tools-extra.\n",
            "Preparing to unpack .../5-mongodb-org-database-tools-extra_8.0.6_amd64.deb ...\n",
            "Unpacking mongodb-org-database-tools-extra (8.0.6) ...\n",
            "Selecting previously unselected package mongodb-org-database.\n",
            "Preparing to unpack .../6-mongodb-org-database_8.0.6_amd64.deb ...\n",
            "Unpacking mongodb-org-database (8.0.6) ...\n",
            "Selecting previously unselected package mongodb-org-tools.\n",
            "Preparing to unpack .../7-mongodb-org-tools_8.0.6_amd64.deb ...\n",
            "Unpacking mongodb-org-tools (8.0.6) ...\n",
            "Selecting previously unselected package mongodb-org.\n",
            "Preparing to unpack .../8-mongodb-org_8.0.6_amd64.deb ...\n",
            "Unpacking mongodb-org (8.0.6) ...\n",
            "Setting up mongodb-mongosh (2.4.2) ...\n",
            "Setting up mongodb-org-server (8.0.6) ...\n",
            "Adding system user `mongodb' (UID 104) ...\n",
            "Adding new user `mongodb' (UID 104) with group `nogroup' ...\n",
            "Not creating home directory `/home/mongodb'.\n",
            "Adding group `mongodb' (GID 107) ...\n",
            "Done.\n",
            "Adding user `mongodb' to group `mongodb' ...\n",
            "Adding user mongodb to group mongodb\n",
            "Done.\n",
            "System has not been booted with systemd as init system (PID 1). Can't operate.\n",
            "Failed to connect to bus: Host is down\n",
            "Setting up mongodb-org-shell (8.0.6) ...\n",
            "Setting up mongodb-database-tools (100.12.0) ...\n",
            "Setting up mongodb-org-mongos (8.0.6) ...\n",
            "Setting up mongodb-org-database-tools-extra (8.0.6) ...\n",
            "Setting up mongodb-org-database (8.0.6) ...\n",
            "Setting up mongodb-org-tools (8.0.6) ...\n",
            "Setting up mongodb-org (8.0.6) ...\n",
            "Processing triggers for man-db (2.10.2-1) ...\n"
          ]
        }
      ]
    },
    {
      "cell_type": "code",
      "source": [
        "!mkdir -p /data/db\n",
        "!sudo chown -R mongodb:mongodb /data/db"
      ],
      "metadata": {
        "id": "ipfEIPl5-G85"
      },
      "execution_count": 9,
      "outputs": []
    },
    {
      "cell_type": "code",
      "source": [
        "!mongod --dbpath /data/db --bind_ip 127.0.0.1 --logpath /data/db/mongod.log --fork"
      ],
      "metadata": {
        "colab": {
          "base_uri": "https://localhost:8080/"
        },
        "id": "4NWRkLD0-xSv",
        "outputId": "7c9dc105-457e-493e-f607-3564aa9227ce"
      },
      "execution_count": 10,
      "outputs": [
        {
          "output_type": "stream",
          "name": "stdout",
          "text": [
            "about to fork child process, waiting until server is ready for connections.\n",
            "forked process: 7084\n",
            "child process started successfully, parent exiting\n"
          ]
        }
      ]
    },
    {
      "cell_type": "code",
      "source": [
        "# check the server is running\n",
        "!tail /data/db/mongod.log"
      ],
      "metadata": {
        "colab": {
          "base_uri": "https://localhost:8080/"
        },
        "id": "VTq4vvQN_dI1",
        "outputId": "79bd568f-27f1-49d2-8111-6ac5b35d298e"
      },
      "execution_count": 11,
      "outputs": [
        {
          "output_type": "stream",
          "name": "stdout",
          "text": [
            "{\"t\":{\"$date\":\"2025-04-08T19:59:56.345+00:00\"},\"s\":\"I\",  \"c\":\"CONTROL\",  \"id\":20712,   \"ctx\":\"LogicalSessionCacheReap\",\"msg\":\"Sessions collection is not set up; waiting until next sessions reap interval\",\"attr\":{\"error\":\"NamespaceNotFound: config.system.sessions does not exist\"}}\n",
            "{\"t\":{\"$date\":\"2025-04-08T19:59:56.347+00:00\"},\"s\":\"I\",  \"c\":\"STORAGE\",  \"id\":20320,   \"ctx\":\"LogicalSessionCacheRefresh\",\"msg\":\"createCollection\",\"attr\":{\"namespace\":\"config.system.sessions\",\"uuidDisposition\":\"generated\",\"uuid\":{\"uuid\":{\"$uuid\":\"470369f1-0b2d-4016-8e0c-336ca9f32094\"}},\"options\":{}}}\n",
            "{\"t\":{\"$date\":\"2025-04-08T19:59:56.392+00:00\"},\"s\":\"I\",  \"c\":\"INDEX\",    \"id\":20345,   \"ctx\":\"LogicalSessionCacheRefresh\",\"msg\":\"Index build: done building\",\"attr\":{\"buildUUID\":null,\"collectionUUID\":{\"uuid\":{\"$uuid\":\"470369f1-0b2d-4016-8e0c-336ca9f32094\"}},\"namespace\":\"config.system.sessions\",\"index\":\"_id_\",\"ident\":\"index-5-12646812816752903530\",\"collectionIdent\":\"collection-4-12646812816752903530\",\"commitTimestamp\":null}}\n",
            "{\"t\":{\"$date\":\"2025-04-08T19:59:56.392+00:00\"},\"s\":\"I\",  \"c\":\"INDEX\",    \"id\":20345,   \"ctx\":\"LogicalSessionCacheRefresh\",\"msg\":\"Index build: done building\",\"attr\":{\"buildUUID\":null,\"collectionUUID\":{\"uuid\":{\"$uuid\":\"470369f1-0b2d-4016-8e0c-336ca9f32094\"}},\"namespace\":\"config.system.sessions\",\"index\":\"lsidTTLIndex\",\"ident\":\"index-6-12646812816752903530\",\"collectionIdent\":\"collection-4-12646812816752903530\",\"commitTimestamp\":null}}\n",
            "{\"t\":{\"$date\":\"2025-04-08T19:59:57.018+00:00\"},\"s\":\"W\",  \"c\":\"CONTROL\",  \"id\":636300,  \"ctx\":\"ftdc\",\"msg\":\"Use of deprecated server parameter name\",\"attr\":{\"deprecatedName\":\"internalQueryCacheSize\",\"canonicalName\":\"internalQueryCacheMaxEntriesPerCollection\"}}\n",
            "{\"t\":{\"$date\":\"2025-04-08T19:59:57.018+00:00\"},\"s\":\"W\",  \"c\":\"CONTROL\",  \"id\":636300,  \"ctx\":\"ftdc\",\"msg\":\"Use of deprecated server parameter name\",\"attr\":{\"deprecatedName\":\"oplogSamplingLogIntervalSeconds\",\"canonicalName\":\"collectionSamplingLogIntervalSeconds\"}}\n",
            "{\"t\":{\"$date\":\"2025-04-08T19:59:57.018+00:00\"},\"s\":\"W\",  \"c\":\"NETWORK\",  \"id\":23803,   \"ctx\":\"ftdc\",\"msg\":\"Use of deprecated server parameter 'sslMode', please use 'tlsMode' instead.\"}\n",
            "{\"t\":{\"$date\":\"2025-04-08T19:59:57.019+00:00\"},\"s\":\"W\",  \"c\":\"CONTROL\",  \"id\":636300,  \"ctx\":\"ftdc\",\"msg\":\"Use of deprecated server parameter name\",\"attr\":{\"deprecatedName\":\"wiredTigerConcurrentReadTransactions\",\"canonicalName\":\"storageEngineConcurrentReadTransactions\"}}\n",
            "{\"t\":{\"$date\":\"2025-04-08T19:59:57.019+00:00\"},\"s\":\"W\",  \"c\":\"CONTROL\",  \"id\":636300,  \"ctx\":\"ftdc\",\"msg\":\"Use of deprecated server parameter name\",\"attr\":{\"deprecatedName\":\"wiredTigerConcurrentWriteTransactions\",\"canonicalName\":\"storageEngineConcurrentWriteTransactions\"}}\n",
            "{\"t\":{\"$date\":\"2025-04-08T20:00:56.264+00:00\"},\"s\":\"I\",  \"c\":\"WTCHKPT\",  \"id\":22430,   \"ctx\":\"Checkpointer\",\"msg\":\"WiredTiger message\",\"attr\":{\"message\":{\"ts_sec\":1744142456,\"ts_usec\":264450,\"thread\":\"7084:0x7a8dac74f640\",\"session_name\":\"WT_SESSION.checkpoint\",\"category\":\"WT_VERB_CHECKPOINT_PROGRESS\",\"category_id\":7,\"verbose_level\":\"DEBUG_1\",\"verbose_level_id\":1,\"msg\":\"saving checkpoint snapshot min: 34, snapshot max: 34 snapshot count: 0, oldest timestamp: (0, 0) , meta checkpoint timestamp: (0, 0) base write gen: 1\"}}}\n"
          ]
        }
      ]
    },
    {
      "cell_type": "code",
      "source": [
        "# install pymongo\n",
        "!pip install pymongo"
      ],
      "metadata": {
        "colab": {
          "base_uri": "https://localhost:8080/"
        },
        "id": "6FeAHNsE_zX8",
        "outputId": "abe259a6-0929-41f1-8ab2-10a7fe3ab198"
      },
      "execution_count": 12,
      "outputs": [
        {
          "output_type": "stream",
          "name": "stdout",
          "text": [
            "Collecting pymongo\n",
            "  Downloading pymongo-4.12.0-cp311-cp311-manylinux_2_17_x86_64.manylinux2014_x86_64.whl.metadata (22 kB)\n",
            "Collecting dnspython<3.0.0,>=1.16.0 (from pymongo)\n",
            "  Downloading dnspython-2.7.0-py3-none-any.whl.metadata (5.8 kB)\n",
            "Downloading pymongo-4.12.0-cp311-cp311-manylinux_2_17_x86_64.manylinux2014_x86_64.whl (1.4 MB)\n",
            "\u001b[2K   \u001b[90m━━━━━━━━━━━━━━━━━━━━━━━━━━━━━━━━━━━━━━━━\u001b[0m \u001b[32m1.4/1.4 MB\u001b[0m \u001b[31m25.4 MB/s\u001b[0m eta \u001b[36m0:00:00\u001b[0m\n",
            "\u001b[?25hDownloading dnspython-2.7.0-py3-none-any.whl (313 kB)\n",
            "\u001b[2K   \u001b[90m━━━━━━━━━━━━━━━━━━━━━━━━━━━━━━━━━━━━━━━━\u001b[0m \u001b[32m313.6/313.6 kB\u001b[0m \u001b[31m19.4 MB/s\u001b[0m eta \u001b[36m0:00:00\u001b[0m\n",
            "\u001b[?25hInstalling collected packages: dnspython, pymongo\n",
            "Successfully installed dnspython-2.7.0 pymongo-4.12.0\n"
          ]
        }
      ]
    },
    {
      "cell_type": "code",
      "source": [
        "from pymongo import MongoClient\n",
        "\n",
        "# connect to MongoDB\n",
        "client = MongoClient(\"mongodb://localhost:27017\")\n",
        "client.list_database_names()"
      ],
      "metadata": {
        "colab": {
          "base_uri": "https://localhost:8080/"
        },
        "id": "jeCvmTdhAIPi",
        "outputId": "64b3ace0-2478-4263-9b17-5f7cec502f51"
      },
      "execution_count": 13,
      "outputs": [
        {
          "output_type": "execute_result",
          "data": {
            "text/plain": [
              "['admin', 'config', 'local']"
            ]
          },
          "metadata": {},
          "execution_count": 13
        }
      ]
    },
    {
      "cell_type": "code",
      "source": [
        "# create database\n",
        "db = client['test_database']\n",
        "collection = db['test_collection']\n",
        "collection.insert_one({\"name\": \"MongoDB\", \"type\":\"Database\"})\n",
        "print(\"Document inserted:\", collection.find_one())"
      ],
      "metadata": {
        "colab": {
          "base_uri": "https://localhost:8080/"
        },
        "id": "z9bd_zYGBKxf",
        "outputId": "9cedc659-8f82-4268-d15e-ca471ba35bf5"
      },
      "execution_count": 14,
      "outputs": [
        {
          "output_type": "stream",
          "name": "stdout",
          "text": [
            "Document inserted: {'_id': ObjectId('67f583c1e47244147e449c83'), 'name': 'MongoDB', 'type': 'Database'}\n"
          ]
        }
      ]
    },
    {
      "cell_type": "code",
      "source": [
        "# find operations\n",
        "collection = db['search_test_collection']\n",
        "collection.insert_many([\n",
        "    {'name': 'Victor', 'age': 45},\n",
        "    {'name': 'Sasha', 'age': 25},\n",
        "    {'name': 'Lena', 'age': 35}\n",
        "])"
      ],
      "metadata": {
        "colab": {
          "base_uri": "https://localhost:8080/"
        },
        "id": "cQxSrBRBDuTb",
        "outputId": "2fc97472-19db-4828-d3ad-9038fe7400cb"
      },
      "execution_count": 15,
      "outputs": [
        {
          "output_type": "execute_result",
          "data": {
            "text/plain": [
              "InsertManyResult([ObjectId('67f586c4e47244147e449c84'), ObjectId('67f586c4e47244147e449c85'), ObjectId('67f586c4e47244147e449c86')], acknowledged=True)"
            ]
          },
          "metadata": {},
          "execution_count": 15
        }
      ]
    },
    {
      "cell_type": "code",
      "source": [
        "# operation 'equal'\n",
        "[rec for rec in collection.find({'age':{'$eq':35}})]"
      ],
      "metadata": {
        "colab": {
          "base_uri": "https://localhost:8080/"
        },
        "id": "GzZHGWhdFn2Y",
        "outputId": "3f68521a-15d1-4f57-ee40-663277ddc241"
      },
      "execution_count": 16,
      "outputs": [
        {
          "output_type": "execute_result",
          "data": {
            "text/plain": [
              "[{'_id': ObjectId('67f586c4e47244147e449c86'), 'name': 'Lena', 'age': 35}]"
            ]
          },
          "metadata": {},
          "execution_count": 16
        }
      ]
    },
    {
      "cell_type": "code",
      "source": [
        "# operation 'not equal'\n",
        "[rec for rec in collection.find({'age':{'$ne':35}})]"
      ],
      "metadata": {
        "colab": {
          "base_uri": "https://localhost:8080/"
        },
        "id": "8aBlyyAJGkyu",
        "outputId": "9aa36a03-eb4c-436d-dbf4-67fe9509b3b2"
      },
      "execution_count": 17,
      "outputs": [
        {
          "output_type": "execute_result",
          "data": {
            "text/plain": [
              "[{'_id': ObjectId('67f586c4e47244147e449c84'), 'name': 'Victor', 'age': 45},\n",
              " {'_id': ObjectId('67f586c4e47244147e449c85'), 'name': 'Sasha', 'age': 25}]"
            ]
          },
          "metadata": {},
          "execution_count": 17
        }
      ]
    },
    {
      "cell_type": "code",
      "source": [
        "# operation 'less than'\n",
        "[rec for rec in collection.find({'age':{'$lte':35}})]"
      ],
      "metadata": {
        "colab": {
          "base_uri": "https://localhost:8080/"
        },
        "id": "cJWIZ7tqG9jW",
        "outputId": "6da7e87b-7852-4cee-f1e9-c59de05d03cd"
      },
      "execution_count": 18,
      "outputs": [
        {
          "output_type": "execute_result",
          "data": {
            "text/plain": [
              "[{'_id': ObjectId('67f586c4e47244147e449c85'), 'name': 'Sasha', 'age': 25},\n",
              " {'_id': ObjectId('67f586c4e47244147e449c86'), 'name': 'Lena', 'age': 35}]"
            ]
          },
          "metadata": {},
          "execution_count": 18
        }
      ]
    },
    {
      "cell_type": "code",
      "source": [
        "# operation 'in list'\n",
        "[rec for rec in collection.find({'name':{'$in':['Victor','Lena']}})]"
      ],
      "metadata": {
        "colab": {
          "base_uri": "https://localhost:8080/"
        },
        "id": "axpCQu_vHSQF",
        "outputId": "fe61aea5-443d-4dac-8677-3b65c8ffd2c5"
      },
      "execution_count": 19,
      "outputs": [
        {
          "output_type": "execute_result",
          "data": {
            "text/plain": [
              "[{'_id': ObjectId('67f586c4e47244147e449c84'), 'name': 'Victor', 'age': 45},\n",
              " {'_id': ObjectId('67f586c4e47244147e449c86'), 'name': 'Lena', 'age': 35}]"
            ]
          },
          "metadata": {},
          "execution_count": 19
        }
      ]
    },
    {
      "cell_type": "code",
      "source": [
        "# operation 'not in list'\n",
        "[rec for rec in collection.find({'name':{'$nin':['Victor','Lena']}})]"
      ],
      "metadata": {
        "colab": {
          "base_uri": "https://localhost:8080/"
        },
        "id": "VKzXKedtHkyL",
        "outputId": "1ebf7cbf-4d84-4135-bee1-9294b7cb6f3d"
      },
      "execution_count": 20,
      "outputs": [
        {
          "output_type": "execute_result",
          "data": {
            "text/plain": [
              "[{'_id': ObjectId('67f586c4e47244147e449c85'), 'name': 'Sasha', 'age': 25}]"
            ]
          },
          "metadata": {},
          "execution_count": 20
        }
      ]
    },
    {
      "cell_type": "code",
      "source": [
        "# aggregation function\n",
        "results = collection.aggregate([\n",
        "    {'$group': {\n",
        "        '_id': None,\n",
        "        'age_sum':{'$sum': '$age'},\n",
        "        'age_avg':{'$avg': '$age'},\n",
        "        'count':{'$sum': 1}\n",
        "    }}\n",
        "])\n",
        "[rec for rec in results]"
      ],
      "metadata": {
        "colab": {
          "base_uri": "https://localhost:8080/"
        },
        "id": "Mhtq9T4OJOBo",
        "outputId": "db744332-118b-4446-be64-e03207367dfb"
      },
      "execution_count": 32,
      "outputs": [
        {
          "output_type": "execute_result",
          "data": {
            "text/plain": [
              "[{'_id': None, 'age_sum': 105, 'age_avg': 35.0, 'count': 3}]"
            ]
          },
          "metadata": {},
          "execution_count": 32
        }
      ]
    }
  ]
}