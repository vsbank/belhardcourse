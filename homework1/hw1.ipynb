{
  "nbformat": 4,
  "nbformat_minor": 0,
  "metadata": {
    "colab": {
      "provenance": []
    },
    "kernelspec": {
      "name": "python3",
      "display_name": "Python 3"
    },
    "language_info": {
      "name": "python"
    }
  },
  "cells": [
    {
      "cell_type": "markdown",
      "source": [
        "Пример N9:\n",
        "Написать функцию, которая принимает строку и выводит ее в обратном порядке"
      ],
      "metadata": {
        "id": "81rUaLRptASc"
      }
    },
    {
      "cell_type": "code",
      "execution_count": null,
      "metadata": {
        "id": "oG4QLMaupfHj"
      },
      "outputs": [],
      "source": [
        "# вариант 1: детально, через обращение к созданной функции\n",
        "def reverse(input_string):\n",
        "  n = input_string[::-1] # самый быстрый способ - срез строки\n",
        "  print(n)\n",
        "\n",
        "n = input()\n",
        "reverse(input_string=n)"
      ]
    },
    {
      "cell_type": "code",
      "source": [
        "# вариант 2: коротко\n",
        "n = input()[::-1]\n",
        "print(n)"
      ],
      "metadata": {
        "id": "PhZSuxpQsmWs"
      },
      "execution_count": null,
      "outputs": []
    }
  ]
}