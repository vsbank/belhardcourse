{
  "nbformat": 4,
  "nbformat_minor": 0,
  "metadata": {
    "colab": {
      "provenance": []
    },
    "kernelspec": {
      "name": "python3",
      "display_name": "Python 3"
    },
    "language_info": {
      "name": "python"
    }
  },
  "cells": [
    {
      "cell_type": "code",
      "execution_count": 19,
      "metadata": {
        "id": "ac5vr8wCxjws",
        "colab": {
          "base_uri": "https://localhost:8080/",
          "height": 866
        },
        "outputId": "88f8d741-12c2-4d75-98e1-0889c6f0aa80"
      },
      "outputs": [
        {
          "output_type": "stream",
          "name": "stdout",
          "text": [
            "       PassengerId    Survived      Pclass         Age       SibSp  \\\n",
            "count   891.000000  891.000000  891.000000  714.000000  891.000000   \n",
            "mean    446.000000    0.383838    2.308642   29.699118    0.523008   \n",
            "std     257.353842    0.486592    0.836071   14.526497    1.102743   \n",
            "min       1.000000    0.000000    1.000000    0.420000    0.000000   \n",
            "25%     223.500000    0.000000    2.000000   20.125000    0.000000   \n",
            "50%     446.000000    0.000000    3.000000   28.000000    0.000000   \n",
            "75%     668.500000    1.000000    3.000000   38.000000    1.000000   \n",
            "max     891.000000    1.000000    3.000000   80.000000    8.000000   \n",
            "\n",
            "            Parch        Fare  \n",
            "count  891.000000  891.000000  \n",
            "mean     0.381594   32.204208  \n",
            "std      0.806057   49.693429  \n",
            "min      0.000000    0.000000  \n",
            "25%      0.000000    7.910400  \n",
            "50%      0.000000   14.454200  \n",
            "75%      0.000000   31.000000  \n",
            "max      6.000000  512.329200  \n",
            "                       Name   Sex  Ticket Cabin Embarked\n",
            "count                   891   891     891   204      889\n",
            "unique                  891     2     681   147        3\n",
            "top     Dooley, Mr. Patrick  male  347082    G6        S\n",
            "freq                      1   577       7     4      644\n"
          ]
        },
        {
          "output_type": "display_data",
          "data": {
            "text/plain": [
              "<Figure size 640x480 with 1 Axes>"
            ],
            "image/png": "[encoded data removed]"
          },
          "metadata": {}
        }
      ],
      "source": [
        "# решение задачи титаника с помощью модуля\n",
        "import module_titanic as titan\n",
        "\n",
        "# загрузка данных\n",
        "train, test = titan.load_data('train.csv', 'test.csv')\n",
        "\n",
        "# статистика\n",
        "titan.show_stat(train)"
      ]
    },
    {
      "cell_type": "code",
      "source": [
        "# обработка данных\n",
        "train, test = titan.preprocess_data(train, test)\n",
        "\n",
        "# подготовка к обучению\n",
        "X_train = train.drop('Survived', axis=1)\n",
        "y_train = train['Survived']\n",
        "\n",
        "X_test = test.drop(\"PassengerId\", axis=1).copy()\n",
        "\n",
        "# обучение\n",
        "titan.train_logistic_regression(X_train, y_train, X_test)\n",
        "titan.train_decision_tree(X_train, y_train, X_test)"
      ],
      "metadata": {
        "colab": {
          "base_uri": "https://localhost:8080/"
        },
        "id": "qaufAFllWtgm",
        "outputId": "45511ff4-316d-42c3-acb2-f92afaafcd63"
      },
      "execution_count": 20,
      "outputs": [
        {
          "output_type": "stream",
          "name": "stdout",
          "text": [
            "Logistic regression result:\n",
            "78.56 percent\n",
            "Decision tree result:\n",
            "83.05 percent\n"
          ]
        }
      ]
    }
  ]
}